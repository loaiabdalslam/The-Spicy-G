{
 "cells": [
  {
   "cell_type": "code",
   "execution_count": 13,
   "id": "60f01068",
   "metadata": {},
   "outputs": [],
   "source": [
    "from gtts import gTTS\n",
    "import os\n",
    "\n",
    "os.remove('text2voice.mp3')\n",
    "os.remove('text-rev.wav')\n",
    "\n",
    "f = open(\"song.txt\", \"r\")\n",
    "text = f.read()\n",
    "text = text[::-1]\n",
    "audio = gTTS(text=text, lang=\"ar\", slow=False)\n",
    "audio.save(\"text2voice.mp3\")\n",
    "\n",
    "#os.system(\"start example.mp3\")"
   ]
  },
  {
   "cell_type": "code",
   "execution_count": 14,
   "id": "7329706d",
   "metadata": {},
   "outputs": [
    {
     "name": "stdout",
     "output_type": "stream",
     "text": [
      "MoviePy - Writing audio in ./text-rev.wav\n"
     ]
    },
    {
     "name": "stderr",
     "output_type": "stream",
     "text": [
      "                                                       "
     ]
    },
    {
     "name": "stdout",
     "output_type": "stream",
     "text": [
      "MoviePy - Done.\n"
     ]
    },
    {
     "name": "stderr",
     "output_type": "stream",
     "text": [
      "\r"
     ]
    }
   ],
   "source": [
    "import moviepy.editor as mp\n",
    "OUTPUT_PATH='./text-rev.wav'\n",
    "clip = mp.AudioFileClip('./text2voice.mp3') \n",
    "clip.write_audiofile(OUTPUT_PATH)"
   ]
  },
  {
   "cell_type": "code",
   "execution_count": 15,
   "id": "ea446fb4",
   "metadata": {},
   "outputs": [],
   "source": [
    "import speech_recognition as sr\n",
    "r = sr.Recognizer()\n",
    "\n",
    "harvard = sr.AudioFile('text-rev.wav')\n",
    "with harvard as source:\n",
    "    audio = r.record(source,duration=120)\n",
    "    audio2 = r.record(source,duration=120)\n",
    "    audio3 = r.record(source,duration=120)\n"
   ]
  },
  {
   "cell_type": "code",
   "execution_count": 16,
   "id": "10fbeddb",
   "metadata": {},
   "outputs": [
    {
     "name": "stdout",
     "output_type": "stream",
     "text": [
      "انا بحب انا\n"
     ]
    }
   ],
   "source": [
    "x1 = r.recognize_google(audio,language='ar')\n",
    "#x2 = r.recognize_google(audio2,language='ar')\n",
    "#x3 = r.recognize_google(audio3,language='ar')\n",
    "print(x1)\n"
   ]
  },
  {
   "cell_type": "code",
   "execution_count": null,
   "id": "2595ac17",
   "metadata": {},
   "outputs": [],
   "source": []
  }
 ],
 "metadata": {
  "kernelspec": {
   "display_name": "Python 3 (ipykernel)",
   "language": "python",
   "name": "python3"
  },
  "language_info": {
   "codemirror_mode": {
    "name": "ipython",
    "version": 3
   },
   "file_extension": ".py",
   "mimetype": "text/x-python",
   "name": "python",
   "nbconvert_exporter": "python",
   "pygments_lexer": "ipython3",
   "version": "3.9.7"
  }
 },
 "nbformat": 4,
 "nbformat_minor": 5
}
